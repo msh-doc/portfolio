{
 "cells": [
  {
   "cell_type": "markdown",
   "metadata": {
    "toc": true
   },
   "source": [
    "<h1>Contents<span class=\"tocSkip\"></span></h1>\n",
    "<div class=\"toc\"><ul class=\"toc-item\"><li><span><a href=\"#Data-Preparation\" data-toc-modified-id=\"Data-Preparation-1\"><span class=\"toc-item-num\">1&nbsp;&nbsp;</span>Data Preparation</a></span><ul class=\"toc-item\"><li><span><a href=\"#Data-loading\" data-toc-modified-id=\"Data-loading-1.1\"><span class=\"toc-item-num\">1.1&nbsp;&nbsp;</span>Data loading</a></span></li><li><span><a href=\"#Distribution-of-classes\" data-toc-modified-id=\"Distribution-of-classes-1.2\"><span class=\"toc-item-num\">1.2&nbsp;&nbsp;</span>Distribution of classes</a></span></li><li><span><a href=\"#Splitting-the-training-and-test-datasets\" data-toc-modified-id=\"Splitting-the-training-and-test-datasets-1.3\"><span class=\"toc-item-num\">1.3&nbsp;&nbsp;</span>Splitting the training and test datasets</a></span></li></ul></li><li><span><a href=\"#Training-and-finding-the-best-model-using-pipelines\" data-toc-modified-id=\"Training-and-finding-the-best-model-using-pipelines-2\"><span class=\"toc-item-num\">2&nbsp;&nbsp;</span>Training and finding the best model using pipelines</a></span><ul class=\"toc-item\"><li><span><a href=\"#Evaluating-the-best-model-on-the-test-set\" data-toc-modified-id=\"Evaluating-the-best-model-on-the-test-set-2.1\"><span class=\"toc-item-num\">2.1&nbsp;&nbsp;</span>Evaluating the best model on the test set</a></span></li></ul></li><li><span><a href=\"#Cross-checking-with-a-dummy-model\" data-toc-modified-id=\"Cross-checking-with-a-dummy-model-3\"><span class=\"toc-item-num\">3&nbsp;&nbsp;</span>Cross-checking with a dummy model</a></span></li><li><span><a href=\"#Conclusion\" data-toc-modified-id=\"Conclusion-4\"><span class=\"toc-item-num\">4&nbsp;&nbsp;</span>Conclusion</a></span></li></ul></div>"
   ]
  },
  {
   "cell_type": "markdown",
   "metadata": {},
   "source": [
    "# Identifying Toxic Comments on an E-Commerce Platform with BERT"
   ]
  },
  {
   "cell_type": "markdown",
   "metadata": {},
   "source": [
    "The e-commerce platform is launching a new service that allows users to edit and enhance product descriptions, similar to wiki communities. Users can propose their own edits and comment on others' changes. The store needs a tool to detect toxic comments and send them for moderation.\n",
    "\n",
    "**Objective:** Train a model to classify comments as positive or negative with a quality metric F1 score of at least 0.75.\n",
    "\n",
    "**Data Description**\n",
    "\n",
    "The data is located in the file `toxic_comments.csv`. The text column contains the comment text, and the toxic column is the target variable."
   ]
  },
  {
   "cell_type": "markdown",
   "metadata": {},
   "source": [
    "Let's load necessary libraries, data, and auxiliary functions/classes."
   ]
  },
  {
   "cell_type": "code",
   "execution_count": 1,
   "metadata": {},
   "outputs": [],
   "source": [
    "import os\n",
    "import numpy as np\n",
    "import pandas as pd\n",
    "import re\n",
    "\n",
    "from matplotlib import pyplot as plt\n",
    "import seaborn as sns\n",
    "\n",
    "import nltk\n",
    "from nltk.corpus import stopwords as nltk_stopwords\n",
    "stopwords = set(nltk_stopwords.words('english'))\n",
    "\n",
    "\n",
    "from nltk.corpus import wordnet\n",
    "from nltk.stem import WordNetLemmatizer\n",
    "\n",
    "\n",
    "\n",
    "from sklearn.feature_extraction.text import TfidfVectorizer\n",
    "\n",
    "from sklearn.model_selection  import GridSearchCV, RandomizedSearchCV\n",
    "from sklearn.pipeline import Pipeline\n",
    "\n",
    "from sklearn.linear_model import LogisticRegression, RidgeClassifier\n",
    "from sklearn.model_selection import cross_val_score\n",
    "from sklearn.model_selection import train_test_split\n",
    "from sklearn.metrics import make_scorer,f1_score\n",
    "from sklearn.tree import DecisionTreeClassifier\n",
    "from sklearn.dummy import DummyClassifier\n",
    "import warnings\n",
    "warnings.filterwarnings(\"ignore\")\n",
    "\n",
    "from helper_functions import importdata"
   ]
  },
  {
   "cell_type": "markdown",
   "metadata": {},
   "source": [
    "## Data Preparation"
   ]
  },
  {
   "cell_type": "markdown",
   "metadata": {},
   "source": [
    "### Data loading"
   ]
  },
  {
   "cell_type": "code",
   "execution_count": 2,
   "metadata": {},
   "outputs": [
    {
     "name": "stdout",
     "output_type": "stream",
     "text": [
      "File toxic_comments.csv is loaded from ../datasets/\n"
     ]
    }
   ],
   "source": [
    "filedirs = ['../datasets/']\n",
    "fname = 'toxic_comments.csv'\n",
    "fixed_seed = 72 \n",
    "df_tweets = importdata(filedirs,fname).sample(frac=0.001, random_state=fixed_seed).reset_index(drop=True)"
   ]
  },
  {
   "cell_type": "markdown",
   "metadata": {},
   "source": [
    "Let's go over the general information."
   ]
  },
  {
   "cell_type": "code",
   "execution_count": 3,
   "metadata": {},
   "outputs": [
    {
     "name": "stdout",
     "output_type": "stream",
     "text": [
      "<class 'pandas.core.frame.DataFrame'>\n",
      "RangeIndex: 159 entries, 0 to 158\n",
      "Data columns (total 3 columns):\n",
      " #   Column      Non-Null Count  Dtype \n",
      "---  ------      --------------  ----- \n",
      " 0   Unnamed: 0  159 non-null    int64 \n",
      " 1   text        159 non-null    object\n",
      " 2   toxic       159 non-null    int64 \n",
      "dtypes: int64(2), object(1)\n",
      "memory usage: 3.9+ KB\n"
     ]
    }
   ],
   "source": [
    "df_tweets.info()"
   ]
  },
  {
   "cell_type": "code",
   "execution_count": 4,
   "metadata": {},
   "outputs": [
    {
     "data": {
      "text/html": [
       "<div>\n",
       "<style scoped>\n",
       "    .dataframe tbody tr th:only-of-type {\n",
       "        vertical-align: middle;\n",
       "    }\n",
       "\n",
       "    .dataframe tbody tr th {\n",
       "        vertical-align: top;\n",
       "    }\n",
       "\n",
       "    .dataframe thead th {\n",
       "        text-align: right;\n",
       "    }\n",
       "</style>\n",
       "<table border=\"1\" class=\"dataframe\">\n",
       "  <thead>\n",
       "    <tr style=\"text-align: right;\">\n",
       "      <th></th>\n",
       "      <th>Unnamed: 0</th>\n",
       "      <th>text</th>\n",
       "      <th>toxic</th>\n",
       "    </tr>\n",
       "  </thead>\n",
       "  <tbody>\n",
       "    <tr>\n",
       "      <th>0</th>\n",
       "      <td>45284</td>\n",
       "      <td>It is not according to MEDRS. Are you saying t...</td>\n",
       "      <td>0</td>\n",
       "    </tr>\n",
       "    <tr>\n",
       "      <th>1</th>\n",
       "      <td>129102</td>\n",
       "      <td>\", 5 April 2009 (UTC)\\nIf he was born and rais...</td>\n",
       "      <td>0</td>\n",
       "    </tr>\n",
       "    <tr>\n",
       "      <th>2</th>\n",
       "      <td>74447</td>\n",
       "      <td>\"\\n\\n''The above discussion is preserved as an...</td>\n",
       "      <td>0</td>\n",
       "    </tr>\n",
       "    <tr>\n",
       "      <th>3</th>\n",
       "      <td>17964</td>\n",
       "      <td>Hi there.  Let me make my comment a little mor...</td>\n",
       "      <td>0</td>\n",
       "    </tr>\n",
       "    <tr>\n",
       "      <th>4</th>\n",
       "      <td>78916</td>\n",
       "      <td>[{unblock|responding administrators don't have...</td>\n",
       "      <td>0</td>\n",
       "    </tr>\n",
       "  </tbody>\n",
       "</table>\n",
       "</div>"
      ],
      "text/plain": [
       "   Unnamed: 0                                               text  toxic\n",
       "0       45284  It is not according to MEDRS. Are you saying t...      0\n",
       "1      129102  \", 5 April 2009 (UTC)\\nIf he was born and rais...      0\n",
       "2       74447  \"\\n\\n''The above discussion is preserved as an...      0\n",
       "3       17964  Hi there.  Let me make my comment a little mor...      0\n",
       "4       78916  [{unblock|responding administrators don't have...      0"
      ]
     },
     "metadata": {},
     "output_type": "display_data"
    }
   ],
   "source": [
    "display(df_tweets.head())"
   ]
  },
  {
   "cell_type": "markdown",
   "metadata": {},
   "source": [
    "There are no missing values in the fields, and the data types are properly defined."
   ]
  },
  {
   "cell_type": "markdown",
   "metadata": {},
   "source": [
    "The 'Unnamed: 0' column doesn't provide any useful information."
   ]
  },
  {
   "cell_type": "code",
   "execution_count": 5,
   "metadata": {},
   "outputs": [],
   "source": [
    "df_tweets.drop('Unnamed: 0',axis=1,inplace=True)"
   ]
  },
  {
   "cell_type": "markdown",
   "metadata": {},
   "source": [
    "We'll remove any unnecessary characters from the descriptions. "
   ]
  },
  {
   "cell_type": "code",
   "execution_count": 6,
   "metadata": {},
   "outputs": [
    {
     "data": {
      "text/html": [
       "<div>\n",
       "<style scoped>\n",
       "    .dataframe tbody tr th:only-of-type {\n",
       "        vertical-align: middle;\n",
       "    }\n",
       "\n",
       "    .dataframe tbody tr th {\n",
       "        vertical-align: top;\n",
       "    }\n",
       "\n",
       "    .dataframe thead th {\n",
       "        text-align: right;\n",
       "    }\n",
       "</style>\n",
       "<table border=\"1\" class=\"dataframe\">\n",
       "  <thead>\n",
       "    <tr style=\"text-align: right;\">\n",
       "      <th></th>\n",
       "      <th>text</th>\n",
       "      <th>toxic</th>\n",
       "      <th>reg_text</th>\n",
       "    </tr>\n",
       "  </thead>\n",
       "  <tbody>\n",
       "    <tr>\n",
       "      <th>0</th>\n",
       "      <td>It is not according to MEDRS. Are you saying t...</td>\n",
       "      <td>0</td>\n",
       "      <td>it is not according to medrs are you saying th...</td>\n",
       "    </tr>\n",
       "    <tr>\n",
       "      <th>1</th>\n",
       "      <td>\", 5 April 2009 (UTC)\\nIf he was born and rais...</td>\n",
       "      <td>0</td>\n",
       "      <td>april utc if he was born and raised in austral...</td>\n",
       "    </tr>\n",
       "    <tr>\n",
       "      <th>2</th>\n",
       "      <td>\"\\n\\n''The above discussion is preserved as an...</td>\n",
       "      <td>0</td>\n",
       "      <td>the above discussion is preserved as an archiv...</td>\n",
       "    </tr>\n",
       "    <tr>\n",
       "      <th>3</th>\n",
       "      <td>Hi there.  Let me make my comment a little mor...</td>\n",
       "      <td>0</td>\n",
       "      <td>hi there let me make my comment a little more ...</td>\n",
       "    </tr>\n",
       "    <tr>\n",
       "      <th>4</th>\n",
       "      <td>[{unblock|responding administrators don't have...</td>\n",
       "      <td>0</td>\n",
       "      <td>unblock responding administrators don t have a...</td>\n",
       "    </tr>\n",
       "  </tbody>\n",
       "</table>\n",
       "</div>"
      ],
      "text/plain": [
       "                                                text  toxic  \\\n",
       "0  It is not according to MEDRS. Are you saying t...      0   \n",
       "1  \", 5 April 2009 (UTC)\\nIf he was born and rais...      0   \n",
       "2  \"\\n\\n''The above discussion is preserved as an...      0   \n",
       "3  Hi there.  Let me make my comment a little mor...      0   \n",
       "4  [{unblock|responding administrators don't have...      0   \n",
       "\n",
       "                                            reg_text  \n",
       "0  it is not according to medrs are you saying th...  \n",
       "1  april utc if he was born and raised in austral...  \n",
       "2  the above discussion is preserved as an archiv...  \n",
       "3  hi there let me make my comment a little more ...  \n",
       "4  unblock responding administrators don t have a...  "
      ]
     },
     "metadata": {},
     "output_type": "display_data"
    }
   ],
   "source": [
    "def clear_text(text):\n",
    "    text = re.sub(r'[^a-zA-Z]', ' ', text.lower())\n",
    "    tmp = text.split()\n",
    "    return \" \".join(tmp)\n",
    "\n",
    "df_tweets.insert(2,'reg_text','')\n",
    "\n",
    "df_tweets['reg_text'] = df_tweets['text'].apply(clear_text)\n",
    "display(df_tweets.head())"
   ]
  },
  {
   "cell_type": "code",
   "execution_count": 7,
   "metadata": {},
   "outputs": [],
   "source": [
    "def get_wordnet_pos(word):\n",
    "    \"\"\"Map POS tag to first character lemmatize() accepts\"\"\"\n",
    "    tag = nltk.pos_tag([word])[0][1][0].upper()\n",
    "    tag_dict = {\"J\": wordnet.ADJ,\n",
    "                \"N\": wordnet.NOUN,\n",
    "                \"V\": wordnet.VERB,\n",
    "                \"R\": wordnet.ADV,\n",
    "               }\n",
    "    return tag_dict.get(tag, wordnet.NOUN)"
   ]
  },
  {
   "cell_type": "markdown",
   "metadata": {},
   "source": [
    "Next, we will lemmatize the tweets."
   ]
  },
  {
   "cell_type": "code",
   "execution_count": 8,
   "metadata": {},
   "outputs": [
    {
     "data": {
      "text/html": [
       "<div>\n",
       "<style scoped>\n",
       "    .dataframe tbody tr th:only-of-type {\n",
       "        vertical-align: middle;\n",
       "    }\n",
       "\n",
       "    .dataframe tbody tr th {\n",
       "        vertical-align: top;\n",
       "    }\n",
       "\n",
       "    .dataframe thead th {\n",
       "        text-align: right;\n",
       "    }\n",
       "</style>\n",
       "<table border=\"1\" class=\"dataframe\">\n",
       "  <thead>\n",
       "    <tr style=\"text-align: right;\">\n",
       "      <th></th>\n",
       "      <th>text</th>\n",
       "      <th>toxic</th>\n",
       "      <th>reg_text</th>\n",
       "      <th>lemm_text</th>\n",
       "    </tr>\n",
       "  </thead>\n",
       "  <tbody>\n",
       "    <tr>\n",
       "      <th>0</th>\n",
       "      <td>It is not according to MEDRS. Are you saying t...</td>\n",
       "      <td>0</td>\n",
       "      <td>it is not according to medrs are you saying th...</td>\n",
       "      <td>it be not accord to medrs be you say that le v...</td>\n",
       "    </tr>\n",
       "    <tr>\n",
       "      <th>1</th>\n",
       "      <td>\", 5 April 2009 (UTC)\\nIf he was born and rais...</td>\n",
       "      <td>0</td>\n",
       "      <td>april utc if he was born and raised in austral...</td>\n",
       "      <td>april utc if he be born and raise in australia...</td>\n",
       "    </tr>\n",
       "    <tr>\n",
       "      <th>2</th>\n",
       "      <td>\"\\n\\n''The above discussion is preserved as an...</td>\n",
       "      <td>0</td>\n",
       "      <td>the above discussion is preserved as an archiv...</td>\n",
       "      <td>the above discussion be preserve a an archive ...</td>\n",
       "    </tr>\n",
       "    <tr>\n",
       "      <th>3</th>\n",
       "      <td>Hi there.  Let me make my comment a little mor...</td>\n",
       "      <td>0</td>\n",
       "      <td>hi there let me make my comment a little more ...</td>\n",
       "      <td>hi there let me make my comment a little more ...</td>\n",
       "    </tr>\n",
       "    <tr>\n",
       "      <th>4</th>\n",
       "      <td>[{unblock|responding administrators don't have...</td>\n",
       "      <td>0</td>\n",
       "      <td>unblock responding administrators don t have a...</td>\n",
       "      <td>unblock respond administrator don t have a sol...</td>\n",
       "    </tr>\n",
       "  </tbody>\n",
       "</table>\n",
       "</div>"
      ],
      "text/plain": [
       "                                                text  toxic  \\\n",
       "0  It is not according to MEDRS. Are you saying t...      0   \n",
       "1  \", 5 April 2009 (UTC)\\nIf he was born and rais...      0   \n",
       "2  \"\\n\\n''The above discussion is preserved as an...      0   \n",
       "3  Hi there.  Let me make my comment a little mor...      0   \n",
       "4  [{unblock|responding administrators don't have...      0   \n",
       "\n",
       "                                            reg_text  \\\n",
       "0  it is not according to medrs are you saying th...   \n",
       "1  april utc if he was born and raised in austral...   \n",
       "2  the above discussion is preserved as an archiv...   \n",
       "3  hi there let me make my comment a little more ...   \n",
       "4  unblock responding administrators don t have a...   \n",
       "\n",
       "                                           lemm_text  \n",
       "0  it be not accord to medrs be you say that le v...  \n",
       "1  april utc if he be born and raise in australia...  \n",
       "2  the above discussion be preserve a an archive ...  \n",
       "3  hi there let me make my comment a little more ...  \n",
       "4  unblock respond administrator don t have a sol...  "
      ]
     },
     "metadata": {},
     "output_type": "display_data"
    }
   ],
   "source": [
    "m = WordNetLemmatizer()\n",
    "def lemmatize(text):\n",
    "    \n",
    "    lemm_list = [m.lemmatize(w,get_wordnet_pos(w)) for w in nltk.word_tokenize(text)]\n",
    "    lemm_text = \" \".join(lemm_list)\n",
    "        \n",
    "    return lemm_text\n",
    "\n",
    "df_tweets.insert(3,'lemm_text','')\n",
    "\n",
    "df_tweets['lemm_text'] = df_tweets['reg_text'].apply(lemmatize)\n",
    "display(df_tweets.head())"
   ]
  },
  {
   "cell_type": "markdown",
   "metadata": {},
   "source": [
    "Let's take one description and observe how it evolves through the transformations. "
   ]
  },
  {
   "cell_type": "code",
   "execution_count": 9,
   "metadata": {},
   "outputs": [
    {
     "data": {
      "text/plain": [
       "\"It is not according to MEDRS. Are you saying that Les Vegas' wording over-generalizes its findings?\""
      ]
     },
     "execution_count": 9,
     "metadata": {},
     "output_type": "execute_result"
    }
   ],
   "source": [
    "df_tweets['text'][0]"
   ]
  },
  {
   "cell_type": "markdown",
   "metadata": {},
   "source": [
    "The original sentence contains special characters and numbers. We'll check how it looks after filtering irregular expressions."
   ]
  },
  {
   "cell_type": "code",
   "execution_count": 10,
   "metadata": {},
   "outputs": [
    {
     "data": {
      "text/plain": [
       "'it is not according to medrs are you saying that les vegas wording over generalizes its findings'"
      ]
     },
     "execution_count": 10,
     "metadata": {},
     "output_type": "execute_result"
    }
   ],
   "source": [
    "df_tweets['reg_text'][0]"
   ]
  },
  {
   "cell_type": "markdown",
   "metadata": {},
   "source": [
    " The unnecessary characters are gone. Now, let's review how the parts of speech are identified."
   ]
  },
  {
   "cell_type": "code",
   "execution_count": 11,
   "metadata": {},
   "outputs": [
    {
     "name": "stdout",
     "output_type": "stream",
     "text": [
      "it n\n",
      "is v\n",
      "not r\n",
      "according v\n",
      "to n\n",
      "medrs n\n",
      "are v\n",
      "you n\n",
      "saying v\n",
      "that n\n",
      "les n\n",
      "vegas n\n",
      "wording v\n",
      "over n\n",
      "generalizes n\n",
      "its n\n",
      "findings n\n"
     ]
    }
   ],
   "source": [
    "m = WordNetLemmatizer()\n",
    "text = df_tweets['reg_text'][0]\n",
    "[m.lemmatize(w,get_wordnet_pos(w)) for w in nltk.word_tokenize(text)]\n",
    "for w in nltk.word_tokenize(text):\n",
    "    print(w,get_wordnet_pos(w))"
   ]
  },
  {
   "cell_type": "markdown",
   "metadata": {},
   "source": [
    "Most parts of speech are correctly recognized, though not all of them."
   ]
  },
  {
   "cell_type": "code",
   "execution_count": 12,
   "metadata": {},
   "outputs": [
    {
     "data": {
      "text/plain": [
       "'it be not accord to medrs be you say that le vega word over generalizes it finding'"
      ]
     },
     "execution_count": 12,
     "metadata": {},
     "output_type": "execute_result"
    }
   ],
   "source": [
    "df_tweets['lemm_text'][0]"
   ]
  },
  {
   "cell_type": "markdown",
   "metadata": {},
   "source": [
    "We can see that some words are converted to their base forms, for example, \"is\" goes to \"be.\""
   ]
  },
  {
   "cell_type": "markdown",
   "metadata": {},
   "source": [
    "Identifying parts of speech and lemmatizing takes considerable time. Therefore, I’ve prepared a separate file to avoid repeating this process in Jupyter cells."
   ]
  },
  {
   "cell_type": "code",
   "execution_count": 13,
   "metadata": {},
   "outputs": [
    {
     "name": "stdout",
     "output_type": "stream",
     "text": [
      "File toxic_comments_lemm.csv is loaded from ../datasets/\n"
     ]
    }
   ],
   "source": [
    "df_tweets_lemm = importdata(filedirs,'toxic_comments_lemm.csv')"
   ]
  },
  {
   "cell_type": "code",
   "execution_count": 14,
   "metadata": {},
   "outputs": [
    {
     "name": "stdout",
     "output_type": "stream",
     "text": [
      "<class 'pandas.core.frame.DataFrame'>\n",
      "RangeIndex: 159292 entries, 0 to 159291\n",
      "Data columns (total 5 columns):\n",
      " #   Column      Non-Null Count   Dtype \n",
      "---  ------      --------------   ----- \n",
      " 0   Unnamed: 0  159292 non-null  int64 \n",
      " 1   text        159292 non-null  object\n",
      " 2   toxic       159292 non-null  int64 \n",
      " 3   reg_text    159281 non-null  object\n",
      " 4   lemm_text   159281 non-null  object\n",
      "dtypes: int64(2), object(3)\n",
      "memory usage: 6.1+ MB\n"
     ]
    }
   ],
   "source": [
    "df_tweets_lemm.info()"
   ]
  },
  {
   "cell_type": "raw",
   "metadata": {},
   "source": [
    "There’s only a small number of records."
   ]
  },
  {
   "cell_type": "code",
   "execution_count": 15,
   "metadata": {},
   "outputs": [
    {
     "name": "stdout",
     "output_type": "stream",
     "text": [
      "<class 'pandas.core.frame.DataFrame'>\n",
      "Int64Index: 159281 entries, 0 to 159291\n",
      "Data columns (total 5 columns):\n",
      " #   Column      Non-Null Count   Dtype \n",
      "---  ------      --------------   ----- \n",
      " 0   Unnamed: 0  159281 non-null  int64 \n",
      " 1   text        159281 non-null  object\n",
      " 2   toxic       159281 non-null  int64 \n",
      " 3   reg_text    159281 non-null  object\n",
      " 4   lemm_text   159281 non-null  object\n",
      "dtypes: int64(2), object(3)\n",
      "memory usage: 7.3+ MB\n",
      "None\n"
     ]
    }
   ],
   "source": [
    "df_tweets_lemm.dropna(inplace=True)\n",
    "print(df_tweets_lemm.info())"
   ]
  },
  {
   "cell_type": "markdown",
   "metadata": {},
   "source": [
    "### Distribution of classes"
   ]
  },
  {
   "cell_type": "markdown",
   "metadata": {},
   "source": [
    "We observe no undeclared classes"
   ]
  },
  {
   "cell_type": "code",
   "execution_count": 16,
   "metadata": {},
   "outputs": [
    {
     "data": {
      "text/plain": [
       "array([0, 1], dtype=int64)"
      ]
     },
     "execution_count": 16,
     "metadata": {},
     "output_type": "execute_result"
    }
   ],
   "source": [
    "df_tweets_lemm['toxic'].unique()"
   ]
  },
  {
   "cell_type": "code",
   "execution_count": 17,
   "metadata": {},
   "outputs": [
    {
     "data": {
      "image/png": "[encoded data removed]",
      "text/plain": [
       "<Figure size 600x500 with 1 Axes>"
      ]
     },
     "metadata": {},
     "output_type": "display_data"
    }
   ],
   "source": [
    "y = 'toxic' \n",
    "fig, ax = plt.subplots(1, 1,figsize=(6,5))\n",
    "\n",
    "sns.countplot(df_tweets_lemm,x=y, ax=ax,\n",
    "             color='green',stat='proportion')\n",
    "\n",
    "ax.set_xticks([0,1],['no', 'yes'])\n",
    "\n",
    "ax.set_xlabel(y)\n",
    "ax.tick_params(axis='x')\n",
    "ax.set_ylabel('fraction of comments')\n",
    "ax.set_ylim(0,1)\n",
    "ax.grid()\n",
    "plt.title('Histogram of target classes')\n",
    "plt.show()"
   ]
  },
  {
   "cell_type": "markdown",
   "metadata": {},
   "source": [
    "The histogram for the target values shows that the two classes are imbalanced, with around 10% of toxic tweets. "
   ]
  },
  {
   "cell_type": "markdown",
   "metadata": {},
   "source": [
    "Finally, we'll drop any duplicates, if they are any."
   ]
  },
  {
   "cell_type": "code",
   "execution_count": 18,
   "metadata": {},
   "outputs": [
    {
     "name": "stdout",
     "output_type": "stream",
     "text": [
      "Dropping 1303 duplicates\n"
     ]
    }
   ],
   "source": [
    "num_dupl = df_tweets_lemm[['lemm_text','toxic']].duplicated().sum()\n",
    "if num_dupl>0:\n",
    "    df_tweets_lemm.drop_duplicates(subset=['lemm_text','toxic'],inplace=True)\n",
    "    print(f'Dropping {num_dupl} duplicates')"
   ]
  },
  {
   "cell_type": "markdown",
   "metadata": {},
   "source": [
    "### Splitting the training and test datasets"
   ]
  },
  {
   "cell_type": "markdown",
   "metadata": {},
   "source": [
    "We'll reserve 25% of the data for the test set."
   ]
  },
  {
   "cell_type": "code",
   "execution_count": 19,
   "metadata": {},
   "outputs": [],
   "source": [
    "X = df_tweets_lemm['lemm_text']\n",
    "y = df_tweets_lemm['toxic']\n",
    "X_train_corpus, X_test_corpus, y_train, y_test = train_test_split(\n",
    "    X, y, stratify=y, test_size=0.25, random_state=42)"
   ]
  },
  {
   "cell_type": "markdown",
   "metadata": {},
   "source": [
    "## Training and finding the best model using pipelines"
   ]
  },
  {
   "cell_type": "markdown",
   "metadata": {},
   "source": [
    "We'll start by \n",
    "* applying a linear logistic regression model,\n",
    "* using cross-validation,\n",
    "* the best model will be determined based on the F1 score metric.\n",
    "\n",
    "We'll configure the TfidfVectorizer class to compute the TF-IDF for the text in both the training and test sets, considering stop words and identifying N-grams in the range from 1 to 5.\n",
    "\n",
    "Since not all features may contribute, we'll apply regularization to the linear logistic regression model. "
   ]
  },
  {
   "cell_type": "code",
   "execution_count": 20,
   "metadata": {},
   "outputs": [
    {
     "data": {
      "text/html": [
       "<style>#sk-container-id-1 {\n",
       "  /* Definition of color scheme common for light and dark mode */\n",
       "  --sklearn-color-text: black;\n",
       "  --sklearn-color-line: gray;\n",
       "  /* Definition of color scheme for unfitted estimators */\n",
       "  --sklearn-color-unfitted-level-0: #fff5e6;\n",
       "  --sklearn-color-unfitted-level-1: #f6e4d2;\n",
       "  --sklearn-color-unfitted-level-2: #ffe0b3;\n",
       "  --sklearn-color-unfitted-level-3: chocolate;\n",
       "  /* Definition of color scheme for fitted estimators */\n",
       "  --sklearn-color-fitted-level-0: #f0f8ff;\n",
       "  --sklearn-color-fitted-level-1: #d4ebff;\n",
       "  --sklearn-color-fitted-level-2: #b3dbfd;\n",
       "  --sklearn-color-fitted-level-3: cornflowerblue;\n",
       "\n",
       "  /* Specific color for light theme */\n",
       "  --sklearn-color-text-on-default-background: var(--sg-text-color, var(--theme-code-foreground, var(--jp-content-font-color1, black)));\n",
       "  --sklearn-color-background: var(--sg-background-color, var(--theme-background, var(--jp-layout-color0, white)));\n",
       "  --sklearn-color-border-box: var(--sg-text-color, var(--theme-code-foreground, var(--jp-content-font-color1, black)));\n",
       "  --sklearn-color-icon: #696969;\n",
       "\n",
       "  @media (prefers-color-scheme: dark) {\n",
       "    /* Redefinition of color scheme for dark theme */\n",
       "    --sklearn-color-text-on-default-background: var(--sg-text-color, var(--theme-code-foreground, var(--jp-content-font-color1, white)));\n",
       "    --sklearn-color-background: var(--sg-background-color, var(--theme-background, var(--jp-layout-color0, #111)));\n",
       "    --sklearn-color-border-box: var(--sg-text-color, var(--theme-code-foreground, var(--jp-content-font-color1, white)));\n",
       "    --sklearn-color-icon: #878787;\n",
       "  }\n",
       "}\n",
       "\n",
       "#sk-container-id-1 {\n",
       "  color: var(--sklearn-color-text);\n",
       "}\n",
       "\n",
       "#sk-container-id-1 pre {\n",
       "  padding: 0;\n",
       "}\n",
       "\n",
       "#sk-container-id-1 input.sk-hidden--visually {\n",
       "  border: 0;\n",
       "  clip: rect(1px 1px 1px 1px);\n",
       "  clip: rect(1px, 1px, 1px, 1px);\n",
       "  height: 1px;\n",
       "  margin: -1px;\n",
       "  overflow: hidden;\n",
       "  padding: 0;\n",
       "  position: absolute;\n",
       "  width: 1px;\n",
       "}\n",
       "\n",
       "#sk-container-id-1 div.sk-dashed-wrapped {\n",
       "  border: 1px dashed var(--sklearn-color-line);\n",
       "  margin: 0 0.4em 0.5em 0.4em;\n",
       "  box-sizing: border-box;\n",
       "  padding-bottom: 0.4em;\n",
       "  background-color: var(--sklearn-color-background);\n",
       "}\n",
       "\n",
       "#sk-container-id-1 div.sk-container {\n",
       "  /* jupyter's `normalize.less` sets `[hidden] { display: none; }`\n",
       "     but bootstrap.min.css set `[hidden] { display: none !important; }`\n",
       "     so we also need the `!important` here to be able to override the\n",
       "     default hidden behavior on the sphinx rendered scikit-learn.org.\n",
       "     See: https://github.com/scikit-learn/scikit-learn/issues/21755 */\n",
       "  display: inline-block !important;\n",
       "  position: relative;\n",
       "}\n",
       "\n",
       "#sk-container-id-1 div.sk-text-repr-fallback {\n",
       "  display: none;\n",
       "}\n",
       "\n",
       "div.sk-parallel-item,\n",
       "div.sk-serial,\n",
       "div.sk-item {\n",
       "  /* draw centered vertical line to link estimators */\n",
       "  background-image: linear-gradient(var(--sklearn-color-text-on-default-background), var(--sklearn-color-text-on-default-background));\n",
       "  background-size: 2px 100%;\n",
       "  background-repeat: no-repeat;\n",
       "  background-position: center center;\n",
       "}\n",
       "\n",
       "/* Parallel-specific style estimator block */\n",
       "\n",
       "#sk-container-id-1 div.sk-parallel-item::after {\n",
       "  content: \"\";\n",
       "  width: 100%;\n",
       "  border-bottom: 2px solid var(--sklearn-color-text-on-default-background);\n",
       "  flex-grow: 1;\n",
       "}\n",
       "\n",
       "#sk-container-id-1 div.sk-parallel {\n",
       "  display: flex;\n",
       "  align-items: stretch;\n",
       "  justify-content: center;\n",
       "  background-color: var(--sklearn-color-background);\n",
       "  position: relative;\n",
       "}\n",
       "\n",
       "#sk-container-id-1 div.sk-parallel-item {\n",
       "  display: flex;\n",
       "  flex-direction: column;\n",
       "}\n",
       "\n",
       "#sk-container-id-1 div.sk-parallel-item:first-child::after {\n",
       "  align-self: flex-end;\n",
       "  width: 50%;\n",
       "}\n",
       "\n",
       "#sk-container-id-1 div.sk-parallel-item:last-child::after {\n",
       "  align-self: flex-start;\n",
       "  width: 50%;\n",
       "}\n",
       "\n",
       "#sk-container-id-1 div.sk-parallel-item:only-child::after {\n",
       "  width: 0;\n",
       "}\n",
       "\n",
       "/* Serial-specific style estimator block */\n",
       "\n",
       "#sk-container-id-1 div.sk-serial {\n",
       "  display: flex;\n",
       "  flex-direction: column;\n",
       "  align-items: center;\n",
       "  background-color: var(--sklearn-color-background);\n",
       "  padding-right: 1em;\n",
       "  padding-left: 1em;\n",
       "}\n",
       "\n",
       "\n",
       "/* Toggleable style: style used for estimator/Pipeline/ColumnTransformer box that is\n",
       "clickable and can be expanded/collapsed.\n",
       "- Pipeline and ColumnTransformer use this feature and define the default style\n",
       "- Estimators will overwrite some part of the style using the `sk-estimator` class\n",
       "*/\n",
       "\n",
       "/* Pipeline and ColumnTransformer style (default) */\n",
       "\n",
       "#sk-container-id-1 div.sk-toggleable {\n",
       "  /* Default theme specific background. It is overwritten whether we have a\n",
       "  specific estimator or a Pipeline/ColumnTransformer */\n",
       "  background-color: var(--sklearn-color-background);\n",
       "}\n",
       "\n",
       "/* Toggleable label */\n",
       "#sk-container-id-1 label.sk-toggleable__label {\n",
       "  cursor: pointer;\n",
       "  display: block;\n",
       "  width: 100%;\n",
       "  margin-bottom: 0;\n",
       "  padding: 0.5em;\n",
       "  box-sizing: border-box;\n",
       "  text-align: center;\n",
       "}\n",
       "\n",
       "#sk-container-id-1 label.sk-toggleable__label-arrow:before {\n",
       "  /* Arrow on the left of the label */\n",
       "  content: \"▸\";\n",
       "  float: left;\n",
       "  margin-right: 0.25em;\n",
       "  color: var(--sklearn-color-icon);\n",
       "}\n",
       "\n",
       "#sk-container-id-1 label.sk-toggleable__label-arrow:hover:before {\n",
       "  color: var(--sklearn-color-text);\n",
       "}\n",
       "\n",
       "/* Toggleable content - dropdown */\n",
       "\n",
       "#sk-container-id-1 div.sk-toggleable__content {\n",
       "  max-height: 0;\n",
       "  max-width: 0;\n",
       "  overflow: hidden;\n",
       "  text-align: left;\n",
       "  /* unfitted */\n",
       "  background-color: var(--sklearn-color-unfitted-level-0);\n",
       "}\n",
       "\n",
       "#sk-container-id-1 div.sk-toggleable__content.fitted {\n",
       "  /* fitted */\n",
       "  background-color: var(--sklearn-color-fitted-level-0);\n",
       "}\n",
       "\n",
       "#sk-container-id-1 div.sk-toggleable__content pre {\n",
       "  margin: 0.2em;\n",
       "  border-radius: 0.25em;\n",
       "  color: var(--sklearn-color-text);\n",
       "  /* unfitted */\n",
       "  background-color: var(--sklearn-color-unfitted-level-0);\n",
       "}\n",
       "\n",
       "#sk-container-id-1 div.sk-toggleable__content.fitted pre {\n",
       "  /* unfitted */\n",
       "  background-color: var(--sklearn-color-fitted-level-0);\n",
       "}\n",
       "\n",
       "#sk-container-id-1 input.sk-toggleable__control:checked~div.sk-toggleable__content {\n",
       "  /* Expand drop-down */\n",
       "  max-height: 200px;\n",
       "  max-width: 100%;\n",
       "  overflow: auto;\n",
       "}\n",
       "\n",
       "#sk-container-id-1 input.sk-toggleable__control:checked~label.sk-toggleable__label-arrow:before {\n",
       "  content: \"▾\";\n",
       "}\n",
       "\n",
       "/* Pipeline/ColumnTransformer-specific style */\n",
       "\n",
       "#sk-container-id-1 div.sk-label input.sk-toggleable__control:checked~label.sk-toggleable__label {\n",
       "  color: var(--sklearn-color-text);\n",
       "  background-color: var(--sklearn-color-unfitted-level-2);\n",
       "}\n",
       "\n",
       "#sk-container-id-1 div.sk-label.fitted input.sk-toggleable__control:checked~label.sk-toggleable__label {\n",
       "  background-color: var(--sklearn-color-fitted-level-2);\n",
       "}\n",
       "\n",
       "/* Estimator-specific style */\n",
       "\n",
       "/* Colorize estimator box */\n",
       "#sk-container-id-1 div.sk-estimator input.sk-toggleable__control:checked~label.sk-toggleable__label {\n",
       "  /* unfitted */\n",
       "  background-color: var(--sklearn-color-unfitted-level-2);\n",
       "}\n",
       "\n",
       "#sk-container-id-1 div.sk-estimator.fitted input.sk-toggleable__control:checked~label.sk-toggleable__label {\n",
       "  /* fitted */\n",
       "  background-color: var(--sklearn-color-fitted-level-2);\n",
       "}\n",
       "\n",
       "#sk-container-id-1 div.sk-label label.sk-toggleable__label,\n",
       "#sk-container-id-1 div.sk-label label {\n",
       "  /* The background is the default theme color */\n",
       "  color: var(--sklearn-color-text-on-default-background);\n",
       "}\n",
       "\n",
       "/* On hover, darken the color of the background */\n",
       "#sk-container-id-1 div.sk-label:hover label.sk-toggleable__label {\n",
       "  color: var(--sklearn-color-text);\n",
       "  background-color: var(--sklearn-color-unfitted-level-2);\n",
       "}\n",
       "\n",
       "/* Label box, darken color on hover, fitted */\n",
       "#sk-container-id-1 div.sk-label.fitted:hover label.sk-toggleable__label.fitted {\n",
       "  color: var(--sklearn-color-text);\n",
       "  background-color: var(--sklearn-color-fitted-level-2);\n",
       "}\n",
       "\n",
       "/* Estimator label */\n",
       "\n",
       "#sk-container-id-1 div.sk-label label {\n",
       "  font-family: monospace;\n",
       "  font-weight: bold;\n",
       "  display: inline-block;\n",
       "  line-height: 1.2em;\n",
       "}\n",
       "\n",
       "#sk-container-id-1 div.sk-label-container {\n",
       "  text-align: center;\n",
       "}\n",
       "\n",
       "/* Estimator-specific */\n",
       "#sk-container-id-1 div.sk-estimator {\n",
       "  font-family: monospace;\n",
       "  border: 1px dotted var(--sklearn-color-border-box);\n",
       "  border-radius: 0.25em;\n",
       "  box-sizing: border-box;\n",
       "  margin-bottom: 0.5em;\n",
       "  /* unfitted */\n",
       "  background-color: var(--sklearn-color-unfitted-level-0);\n",
       "}\n",
       "\n",
       "#sk-container-id-1 div.sk-estimator.fitted {\n",
       "  /* fitted */\n",
       "  background-color: var(--sklearn-color-fitted-level-0);\n",
       "}\n",
       "\n",
       "/* on hover */\n",
       "#sk-container-id-1 div.sk-estimator:hover {\n",
       "  /* unfitted */\n",
       "  background-color: var(--sklearn-color-unfitted-level-2);\n",
       "}\n",
       "\n",
       "#sk-container-id-1 div.sk-estimator.fitted:hover {\n",
       "  /* fitted */\n",
       "  background-color: var(--sklearn-color-fitted-level-2);\n",
       "}\n",
       "\n",
       "/* Specification for estimator info (e.g. \"i\" and \"?\") */\n",
       "\n",
       "/* Common style for \"i\" and \"?\" */\n",
       "\n",
       ".sk-estimator-doc-link,\n",
       "a:link.sk-estimator-doc-link,\n",
       "a:visited.sk-estimator-doc-link {\n",
       "  float: right;\n",
       "  font-size: smaller;\n",
       "  line-height: 1em;\n",
       "  font-family: monospace;\n",
       "  background-color: var(--sklearn-color-background);\n",
       "  border-radius: 1em;\n",
       "  height: 1em;\n",
       "  width: 1em;\n",
       "  text-decoration: none !important;\n",
       "  margin-left: 1ex;\n",
       "  /* unfitted */\n",
       "  border: var(--sklearn-color-unfitted-level-1) 1pt solid;\n",
       "  color: var(--sklearn-color-unfitted-level-1);\n",
       "}\n",
       "\n",
       ".sk-estimator-doc-link.fitted,\n",
       "a:link.sk-estimator-doc-link.fitted,\n",
       "a:visited.sk-estimator-doc-link.fitted {\n",
       "  /* fitted */\n",
       "  border: var(--sklearn-color-fitted-level-1) 1pt solid;\n",
       "  color: var(--sklearn-color-fitted-level-1);\n",
       "}\n",
       "\n",
       "/* On hover */\n",
       "div.sk-estimator:hover .sk-estimator-doc-link:hover,\n",
       ".sk-estimator-doc-link:hover,\n",
       "div.sk-label-container:hover .sk-estimator-doc-link:hover,\n",
       ".sk-estimator-doc-link:hover {\n",
       "  /* unfitted */\n",
       "  background-color: var(--sklearn-color-unfitted-level-3);\n",
       "  color: var(--sklearn-color-background);\n",
       "  text-decoration: none;\n",
       "}\n",
       "\n",
       "div.sk-estimator.fitted:hover .sk-estimator-doc-link.fitted:hover,\n",
       ".sk-estimator-doc-link.fitted:hover,\n",
       "div.sk-label-container:hover .sk-estimator-doc-link.fitted:hover,\n",
       ".sk-estimator-doc-link.fitted:hover {\n",
       "  /* fitted */\n",
       "  background-color: var(--sklearn-color-fitted-level-3);\n",
       "  color: var(--sklearn-color-background);\n",
       "  text-decoration: none;\n",
       "}\n",
       "\n",
       "/* Span, style for the box shown on hovering the info icon */\n",
       ".sk-estimator-doc-link span {\n",
       "  display: none;\n",
       "  z-index: 9999;\n",
       "  position: relative;\n",
       "  font-weight: normal;\n",
       "  right: .2ex;\n",
       "  padding: .5ex;\n",
       "  margin: .5ex;\n",
       "  width: min-content;\n",
       "  min-width: 20ex;\n",
       "  max-width: 50ex;\n",
       "  color: var(--sklearn-color-text);\n",
       "  box-shadow: 2pt 2pt 4pt #999;\n",
       "  /* unfitted */\n",
       "  background: var(--sklearn-color-unfitted-level-0);\n",
       "  border: .5pt solid var(--sklearn-color-unfitted-level-3);\n",
       "}\n",
       "\n",
       ".sk-estimator-doc-link.fitted span {\n",
       "  /* fitted */\n",
       "  background: var(--sklearn-color-fitted-level-0);\n",
       "  border: var(--sklearn-color-fitted-level-3);\n",
       "}\n",
       "\n",
       ".sk-estimator-doc-link:hover span {\n",
       "  display: block;\n",
       "}\n",
       "\n",
       "/* \"?\"-specific style due to the `<a>` HTML tag */\n",
       "\n",
       "#sk-container-id-1 a.estimator_doc_link {\n",
       "  float: right;\n",
       "  font-size: 1rem;\n",
       "  line-height: 1em;\n",
       "  font-family: monospace;\n",
       "  background-color: var(--sklearn-color-background);\n",
       "  border-radius: 1rem;\n",
       "  height: 1rem;\n",
       "  width: 1rem;\n",
       "  text-decoration: none;\n",
       "  /* unfitted */\n",
       "  color: var(--sklearn-color-unfitted-level-1);\n",
       "  border: var(--sklearn-color-unfitted-level-1) 1pt solid;\n",
       "}\n",
       "\n",
       "#sk-container-id-1 a.estimator_doc_link.fitted {\n",
       "  /* fitted */\n",
       "  border: var(--sklearn-color-fitted-level-1) 1pt solid;\n",
       "  color: var(--sklearn-color-fitted-level-1);\n",
       "}\n",
       "\n",
       "/* On hover */\n",
       "#sk-container-id-1 a.estimator_doc_link:hover {\n",
       "  /* unfitted */\n",
       "  background-color: var(--sklearn-color-unfitted-level-3);\n",
       "  color: var(--sklearn-color-background);\n",
       "  text-decoration: none;\n",
       "}\n",
       "\n",
       "#sk-container-id-1 a.estimator_doc_link.fitted:hover {\n",
       "  /* fitted */\n",
       "  background-color: var(--sklearn-color-fitted-level-3);\n",
       "}\n",
       "</style><div id=\"sk-container-id-1\" class=\"sk-top-container\"><div class=\"sk-text-repr-fallback\"><pre>RandomizedSearchCV(cv=2,\n",
       "                   estimator=Pipeline(steps=[(&#x27;tf_idf&#x27;,\n",
       "                                              TfidfVectorizer(max_features=18244,\n",
       "                                                              stop_words=&#x27;english&#x27;)),\n",
       "                                             (&#x27;lr&#x27;, LogisticRegression())]),\n",
       "                   n_iter=9, n_jobs=-1,\n",
       "                   param_distributions={&#x27;lr__C&#x27;: [1, 10, 100],\n",
       "                                        &#x27;tf_idf__ngram_range&#x27;: [(1, 1), (1, 2),\n",
       "                                                                (1, 5)]},\n",
       "                   random_state=72)</pre><b>In a Jupyter environment, please rerun this cell to show the HTML representation or trust the notebook. <br />On GitHub, the HTML representation is unable to render, please try loading this page with nbviewer.org.</b></div><div class=\"sk-container\" hidden><div class=\"sk-item sk-dashed-wrapped\"><div class=\"sk-label-container\"><div class=\"sk-label fitted sk-toggleable\"><input class=\"sk-toggleable__control sk-hidden--visually\" id=\"sk-estimator-id-1\" type=\"checkbox\" ><label for=\"sk-estimator-id-1\" class=\"sk-toggleable__label fitted sk-toggleable__label-arrow fitted\">&nbsp;&nbsp;RandomizedSearchCV<a class=\"sk-estimator-doc-link fitted\" rel=\"noreferrer\" target=\"_blank\" href=\"https://scikit-learn.org/1.4/modules/generated/sklearn.model_selection.RandomizedSearchCV.html\">?<span>Documentation for RandomizedSearchCV</span></a><span class=\"sk-estimator-doc-link fitted\">i<span>Fitted</span></span></label><div class=\"sk-toggleable__content fitted\"><pre>RandomizedSearchCV(cv=2,\n",
       "                   estimator=Pipeline(steps=[(&#x27;tf_idf&#x27;,\n",
       "                                              TfidfVectorizer(max_features=18244,\n",
       "                                                              stop_words=&#x27;english&#x27;)),\n",
       "                                             (&#x27;lr&#x27;, LogisticRegression())]),\n",
       "                   n_iter=9, n_jobs=-1,\n",
       "                   param_distributions={&#x27;lr__C&#x27;: [1, 10, 100],\n",
       "                                        &#x27;tf_idf__ngram_range&#x27;: [(1, 1), (1, 2),\n",
       "                                                                (1, 5)]},\n",
       "                   random_state=72)</pre></div> </div></div><div class=\"sk-parallel\"><div class=\"sk-parallel-item\"><div class=\"sk-item\"><div class=\"sk-label-container\"><div class=\"sk-label fitted sk-toggleable\"><input class=\"sk-toggleable__control sk-hidden--visually\" id=\"sk-estimator-id-2\" type=\"checkbox\" ><label for=\"sk-estimator-id-2\" class=\"sk-toggleable__label fitted sk-toggleable__label-arrow fitted\">estimator: Pipeline</label><div class=\"sk-toggleable__content fitted\"><pre>Pipeline(steps=[(&#x27;tf_idf&#x27;,\n",
       "                 TfidfVectorizer(max_features=18244, stop_words=&#x27;english&#x27;)),\n",
       "                (&#x27;lr&#x27;, LogisticRegression())])</pre></div> </div></div><div class=\"sk-serial\"><div class=\"sk-item\"><div class=\"sk-serial\"><div class=\"sk-item\"><div class=\"sk-estimator fitted sk-toggleable\"><input class=\"sk-toggleable__control sk-hidden--visually\" id=\"sk-estimator-id-3\" type=\"checkbox\" ><label for=\"sk-estimator-id-3\" class=\"sk-toggleable__label fitted sk-toggleable__label-arrow fitted\">&nbsp;TfidfVectorizer<a class=\"sk-estimator-doc-link fitted\" rel=\"noreferrer\" target=\"_blank\" href=\"https://scikit-learn.org/1.4/modules/generated/sklearn.feature_extraction.text.TfidfVectorizer.html\">?<span>Documentation for TfidfVectorizer</span></a></label><div class=\"sk-toggleable__content fitted\"><pre>TfidfVectorizer(max_features=18244, stop_words=&#x27;english&#x27;)</pre></div> </div></div><div class=\"sk-item\"><div class=\"sk-estimator fitted sk-toggleable\"><input class=\"sk-toggleable__control sk-hidden--visually\" id=\"sk-estimator-id-4\" type=\"checkbox\" ><label for=\"sk-estimator-id-4\" class=\"sk-toggleable__label fitted sk-toggleable__label-arrow fitted\">&nbsp;LogisticRegression<a class=\"sk-estimator-doc-link fitted\" rel=\"noreferrer\" target=\"_blank\" href=\"https://scikit-learn.org/1.4/modules/generated/sklearn.linear_model.LogisticRegression.html\">?<span>Documentation for LogisticRegression</span></a></label><div class=\"sk-toggleable__content fitted\"><pre>LogisticRegression()</pre></div> </div></div></div></div></div></div></div></div></div></div></div>"
      ],
      "text/plain": [
       "RandomizedSearchCV(cv=2,\n",
       "                   estimator=Pipeline(steps=[('tf_idf',\n",
       "                                              TfidfVectorizer(max_features=18244,\n",
       "                                                              stop_words='english')),\n",
       "                                             ('lr', LogisticRegression())]),\n",
       "                   n_iter=9, n_jobs=-1,\n",
       "                   param_distributions={'lr__C': [1, 10, 100],\n",
       "                                        'tf_idf__ngram_range': [(1, 1), (1, 2),\n",
       "                                                                (1, 5)]},\n",
       "                   random_state=72)"
      ]
     },
     "execution_count": 20,
     "metadata": {},
     "output_type": "execute_result"
    }
   ],
   "source": [
    "estimators = [(\"tf_idf\", TfidfVectorizer(stop_words=\"english\",lowercase=True,max_features=18244)), \n",
    "              (\"lr\", LogisticRegression())         \n",
    "             ]\n",
    "model = Pipeline(estimators)\n",
    "\n",
    "params = {\n",
    "         \"lr__C\":[1, 10, 100\n",
    "                        ], #regularization parameter\n",
    "          \"tf_idf__ngram_range\": [(1,1), (1,2), (1,5)], #1-2-grams or 1-5-grams\n",
    "\n",
    "}\n",
    "grid = RandomizedSearchCV(\n",
    "     estimator=model\n",
    "    ,param_distributions = params\n",
    "    ,n_jobs = -1\n",
    "    ,n_iter=9\n",
    "    ,refit=True\n",
    "    ,random_state=fixed_seed\n",
    "    , cv=2\n",
    ")\n",
    "grid.fit(X_train_corpus, y_train)"
   ]
  },
  {
   "cell_type": "markdown",
   "metadata": {},
   "source": [
    "The best model has the follwing hyperparameters:"
   ]
  },
  {
   "cell_type": "code",
   "execution_count": 21,
   "metadata": {},
   "outputs": [
    {
     "data": {
      "text/plain": [
       "{'tf_idf__ngram_range': (1, 1), 'lr__C': 10}"
      ]
     },
     "execution_count": 21,
     "metadata": {},
     "output_type": "execute_result"
    }
   ],
   "source": [
    "grid.best_params_"
   ]
  },
  {
   "cell_type": "markdown",
   "metadata": {},
   "source": [
    "Turns out, the regularization is useful."
   ]
  },
  {
   "cell_type": "markdown",
   "metadata": {},
   "source": [
    "### Evaluating the best model on the test set"
   ]
  },
  {
   "cell_type": "code",
   "execution_count": 22,
   "metadata": {},
   "outputs": [
    {
     "name": "stdout",
     "output_type": "stream",
     "text": [
      "f1 on the train set, logistic regression 0.8514537125232458\n",
      "f1 on the test set, logistic regression 0.7765883497845127\n"
     ]
    }
   ],
   "source": [
    " y_pred = grid.best_estimator_.predict(X_train_corpus)\n",
    "print('f1 on the train set, logistic regression', f1_score(y_train,y_pred))\n",
    "\n",
    "y_pred = grid.best_estimator_.predict(X_test_corpus)\n",
    "test_score = f1_score(y_test,y_pred)\n",
    "print('f1 on the test set, logistic regression', test_score)"
   ]
  },
  {
   "cell_type": "markdown",
   "metadata": {},
   "source": [
    "We barely surpassed the F1 score threshold of 0.75, achieving an F1 score of 0.78. "
   ]
  },
  {
   "cell_type": "markdown",
   "metadata": {},
   "source": [
    "## Cross-checking with a dummy model "
   ]
  },
  {
   "cell_type": "code",
   "execution_count": 23,
   "metadata": {
    "scrolled": true
   },
   "outputs": [
    {
     "name": "stdout",
     "output_type": "stream",
     "text": [
      "On the test set\n",
      "F1 metric, dummy model 0.2\n",
      "F1 metric of the best model is  4.6 times better than the dummy model.\n"
     ]
    }
   ],
   "source": [
    "dummy_class = DummyClassifier(strategy=\"uniform\",random_state=fixed_seed)\n",
    "X_train_dummy = grid.best_estimator_.steps[0][1].fit_transform(X_train_corpus)\n",
    "X_test_dummy = grid.best_estimator_.steps[0][1].transform(X_test_corpus)\n",
    "\n",
    "dummy_class.fit(X_train_dummy, y_train)\n",
    "y_dummy_pred = dummy_class.predict(X_test_dummy)\n",
    "dummy_test_score = f1_score(y_test,y_dummy_pred)\n",
    "\n",
    "print('On the test set')\n",
    "print(f'F1 metric, dummy model'\n",
    "      f' {dummy_test_score:.1f}')\n",
    "print(f'F1 metric of the best model is '\n",
    "      f' {round((test_score/dummy_test_score),1):.1f} times better than the dummy model.')"
   ]
  },
  {
   "cell_type": "markdown",
   "metadata": {},
   "source": [
    " When the target class is selected randomly, the ridge linear regression model with weighting offers a significant advantage."
   ]
  },
  {
   "cell_type": "markdown",
   "metadata": {},
   "source": [
    "## Conclusion"
   ]
  },
  {
   "cell_type": "markdown",
   "metadata": {},
   "source": [
    "We trained a linear logistic regression (ridge regression) model using the data from the online store, which consists of product descriptions labeled for toxicity. Before training, we removed irregular expressions, lemmatized the text, and used 1-, 2-, ..., 5-grams. For training, we reserved 25% of the original data as the test set.\n",
    "\n",
    "* The model with a regularization parameter of $C=10$ and a 1-gram approach performed best at identifying both toxic and non-toxic descriptions. The F1 score on the test set is 0.77.\n",
    "\n",
    "* Additionally, the logistic regression model significantly outperformed a model that predicts toxicity/non-toxicity randomly."
   ]
  }
 ],
 "metadata": {
  "ExecuteTimeLog": [
   {
    "duration": 58,
    "start_time": "2024-06-27T05:02:28.288Z"
   },
   {
    "duration": 2431,
    "start_time": "2024-06-27T05:02:30.492Z"
   },
   {
    "duration": 2466,
    "start_time": "2024-06-27T05:02:37.291Z"
   },
   {
    "duration": 978,
    "start_time": "2024-06-27T05:02:51.833Z"
   },
   {
    "duration": 2431,
    "start_time": "2024-06-27T05:03:12.141Z"
   },
   {
    "duration": 971,
    "start_time": "2024-06-27T05:03:26.326Z"
   },
   {
    "duration": 5161,
    "start_time": "2024-06-27T05:03:53.649Z"
   },
   {
    "duration": 60,
    "start_time": "2024-06-27T05:04:48.907Z"
   },
   {
    "duration": 13,
    "start_time": "2024-06-27T05:05:54.400Z"
   },
   {
    "duration": 22,
    "start_time": "2024-06-27T05:06:19.915Z"
   },
   {
    "duration": 936,
    "start_time": "2024-06-27T05:07:42.714Z"
   },
   {
    "duration": 4,
    "start_time": "2024-06-27T05:08:16.981Z"
   },
   {
    "duration": 24,
    "start_time": "2024-06-27T05:11:15.316Z"
   },
   {
    "duration": 31,
    "start_time": "2024-06-27T05:11:21.732Z"
   },
   {
    "duration": 48,
    "start_time": "2024-06-27T05:11:26.924Z"
   },
   {
    "duration": 4,
    "start_time": "2024-06-27T05:13:21.316Z"
   },
   {
    "duration": 55,
    "start_time": "2024-06-27T05:15:49.921Z"
   },
   {
    "duration": 4,
    "start_time": "2024-06-27T05:16:05.365Z"
   },
   {
    "duration": 21,
    "start_time": "2024-06-27T05:16:12.710Z"
   },
   {
    "duration": 3,
    "start_time": "2024-06-27T05:16:23.454Z"
   },
   {
    "duration": 1124,
    "start_time": "2024-06-27T05:17:45.557Z"
   },
   {
    "duration": 112,
    "start_time": "2024-06-27T05:18:42.681Z"
   },
   {
    "duration": 2584,
    "start_time": "2024-06-27T05:19:01.896Z"
   },
   {
    "duration": 898,
    "start_time": "2024-06-27T05:20:37.956Z"
   },
   {
    "duration": 48,
    "start_time": "2024-06-27T05:20:48.832Z"
   },
   {
    "duration": 2763,
    "start_time": "2024-06-27T05:20:59.153Z"
   },
   {
    "duration": 2463,
    "start_time": "2024-06-27T05:21:03.865Z"
   },
   {
    "duration": 12,
    "start_time": "2024-06-27T05:21:11.721Z"
   },
   {
    "duration": 13,
    "start_time": "2024-06-27T05:21:15.628Z"
   },
   {
    "duration": 2927,
    "start_time": "2024-06-27T05:21:34.034Z"
   },
   {
    "duration": 917,
    "start_time": "2024-06-27T05:21:44.689Z"
   },
   {
    "duration": 13,
    "start_time": "2024-06-27T05:21:47.056Z"
   },
   {
    "duration": 11,
    "start_time": "2024-06-27T05:21:49.172Z"
   },
   {
    "duration": 952,
    "start_time": "2024-06-27T05:21:51.182Z"
   },
   {
    "duration": 5034,
    "start_time": "2024-06-27T05:21:55.113Z"
   },
   {
    "duration": 4,
    "start_time": "2024-06-27T05:22:13.948Z"
   },
   {
    "duration": 320,
    "start_time": "2024-06-27T05:22:17.299Z"
   },
   {
    "duration": 5,
    "start_time": "2024-06-27T05:33:57.829Z"
   },
   {
    "duration": 4,
    "start_time": "2024-06-27T05:34:01.493Z"
   },
   {
    "duration": 906,
    "start_time": "2024-06-27T05:34:02.942Z"
   },
   {
    "duration": 17,
    "start_time": "2024-06-27T05:34:03.851Z"
   },
   {
    "duration": 33,
    "start_time": "2024-06-27T05:34:03.870Z"
   },
   {
    "duration": 808,
    "start_time": "2024-06-27T05:34:05.525Z"
   },
   {
    "duration": 2483,
    "start_time": "2024-06-27T05:34:12.965Z"
   },
   {
    "duration": 4,
    "start_time": "2024-06-27T05:34:21.760Z"
   },
   {
    "duration": 4,
    "start_time": "2024-06-27T05:34:41.005Z"
   },
   {
    "duration": 4,
    "start_time": "2024-06-27T05:35:24.309Z"
   },
   {
    "duration": 48,
    "start_time": "2024-06-27T05:35:30.976Z"
   },
   {
    "duration": 2142,
    "start_time": "2024-06-28T07:35:33.754Z"
   },
   {
    "duration": 125,
    "start_time": "2024-06-28T07:35:45.778Z"
   },
   {
    "duration": 4,
    "start_time": "2024-06-28T07:35:50.140Z"
   },
   {
    "duration": 3271,
    "start_time": "2024-06-28T07:35:52.172Z"
   },
   {
    "duration": 870,
    "start_time": "2024-06-28T07:36:09.860Z"
   },
   {
    "duration": 9,
    "start_time": "2024-06-28T07:36:12.935Z"
   },
   {
    "duration": 925,
    "start_time": "2024-06-28T07:36:28.533Z"
   },
   {
    "duration": 13,
    "start_time": "2024-06-28T07:36:31.204Z"
   },
   {
    "duration": 799,
    "start_time": "2024-06-28T07:36:39.063Z"
   },
   {
    "duration": 25,
    "start_time": "2024-06-28T07:36:42.739Z"
   },
   {
    "duration": 10,
    "start_time": "2024-06-28T07:37:22.416Z"
   },
   {
    "duration": 263,
    "start_time": "2024-06-28T07:37:27.976Z"
   },
   {
    "duration": 15,
    "start_time": "2024-06-28T07:37:33.320Z"
   },
   {
    "duration": 851,
    "start_time": "2024-06-28T07:37:42.571Z"
   },
   {
    "duration": 24,
    "start_time": "2024-06-28T07:37:43.758Z"
   },
   {
    "duration": 7,
    "start_time": "2024-06-28T07:37:44.910Z"
   },
   {
    "duration": 229,
    "start_time": "2024-06-28T07:37:48.238Z"
   },
   {
    "duration": 12,
    "start_time": "2024-06-28T07:37:53.152Z"
   },
   {
    "duration": 3,
    "start_time": "2024-06-28T07:37:59.055Z"
   },
   {
    "duration": 860,
    "start_time": "2024-06-28T07:38:00.709Z"
   },
   {
    "duration": 257,
    "start_time": "2024-06-28T07:38:04.238Z"
   },
   {
    "duration": 12,
    "start_time": "2024-06-28T07:38:11.625Z"
   },
   {
    "duration": 818,
    "start_time": "2024-06-28T07:38:16.101Z"
   },
   {
    "duration": 632,
    "start_time": "2024-06-28T07:38:18.930Z"
   },
   {
    "duration": 836,
    "start_time": "2024-06-28T07:38:41.320Z"
   },
   {
    "duration": 239,
    "start_time": "2024-06-28T07:38:44.335Z"
   },
   {
    "duration": 12,
    "start_time": "2024-06-28T07:38:52.860Z"
   },
   {
    "duration": 803,
    "start_time": "2024-06-28T07:38:58.882Z"
   },
   {
    "duration": 4164,
    "start_time": "2024-06-28T07:39:01.796Z"
   },
   {
    "duration": 839,
    "start_time": "2024-06-28T07:39:18.428Z"
   },
   {
    "duration": 426,
    "start_time": "2024-06-28T07:39:22.936Z"
   },
   {
    "duration": 11,
    "start_time": "2024-06-28T07:49:25.462Z"
   },
   {
    "duration": 3,
    "start_time": "2024-06-28T07:49:32.447Z"
   },
   {
    "duration": 805,
    "start_time": "2024-06-28T07:49:34.154Z"
   },
   {
    "duration": 240,
    "start_time": "2024-06-28T07:49:38.080Z"
   },
   {
    "duration": 11,
    "start_time": "2024-06-28T07:51:25.031Z"
   },
   {
    "duration": 833,
    "start_time": "2024-06-28T07:51:51.268Z"
   },
   {
    "duration": 1033,
    "start_time": "2024-06-28T07:51:55.198Z"
   },
   {
    "duration": 5,
    "start_time": "2024-06-28T07:52:17.140Z"
   },
   {
    "duration": 812,
    "start_time": "2024-06-28T07:56:16.072Z"
   },
   {
    "duration": 451,
    "start_time": "2024-06-28T07:56:18.193Z"
   },
   {
    "duration": 3,
    "start_time": "2024-06-28T07:56:39.098Z"
   },
   {
    "duration": 4,
    "start_time": "2024-06-28T07:56:42.578Z"
   },
   {
    "duration": 66907,
    "start_time": "2024-06-28T07:57:04.342Z"
   },
   {
    "duration": 814,
    "start_time": "2024-06-28T07:58:17.449Z"
   },
   {
    "duration": 53,
    "start_time": "2024-06-28T07:58:21.266Z"
   },
   {
    "duration": 3,
    "start_time": "2024-06-28T07:58:30.190Z"
   },
   {
    "duration": 10432,
    "start_time": "2024-06-28T07:58:32.434Z"
   },
   {
    "duration": 810,
    "start_time": "2024-06-28T07:59:59.766Z"
   },
   {
    "duration": 51,
    "start_time": "2024-06-28T08:00:02.589Z"
   },
   {
    "duration": 3,
    "start_time": "2024-06-28T08:00:06.052Z"
   },
   {
    "duration": 10583,
    "start_time": "2024-06-28T08:00:08.032Z"
   },
   {
    "duration": 10,
    "start_time": "2024-06-28T08:00:31.200Z"
   },
   {
    "duration": 801,
    "start_time": "2024-06-28T08:00:47.683Z"
   },
   {
    "duration": 51,
    "start_time": "2024-06-28T08:00:50.879Z"
   },
   {
    "duration": 4,
    "start_time": "2024-06-28T08:00:53.566Z"
   },
   {
    "duration": 10403,
    "start_time": "2024-06-28T08:00:55.598Z"
   },
   {
    "duration": 825,
    "start_time": "2024-06-28T08:01:23.537Z"
   },
   {
    "duration": 427,
    "start_time": "2024-06-28T08:01:26.929Z"
   },
   {
    "duration": 3,
    "start_time": "2024-06-28T08:01:30.242Z"
   },
   {
    "duration": 11440,
    "start_time": "2024-06-28T08:01:31.762Z"
   },
   {
    "duration": 1760,
    "start_time": "2024-06-28T08:01:52.019Z"
   },
   {
    "duration": 5,
    "start_time": "2024-06-28T08:01:53.781Z"
   },
   {
    "duration": 871,
    "start_time": "2024-06-28T08:01:53.787Z"
   },
   {
    "duration": 11,
    "start_time": "2024-06-28T08:01:54.660Z"
   },
   {
    "duration": 58,
    "start_time": "2024-06-28T08:01:54.672Z"
   },
   {
    "duration": 472,
    "start_time": "2024-06-28T08:01:54.732Z"
   },
   {
    "duration": 4,
    "start_time": "2024-06-28T08:01:55.205Z"
   },
   {
    "duration": 102,
    "start_time": "2024-06-28T08:01:55.210Z"
   },
   {
    "duration": 4,
    "start_time": "2024-06-28T08:01:55.320Z"
   },
   {
    "duration": 111574,
    "start_time": "2024-06-28T08:01:55.326Z"
   },
   {
    "duration": 6,
    "start_time": "2024-06-28T08:03:46.902Z"
   },
   {
    "duration": 255,
    "start_time": "2024-06-28T08:03:46.919Z"
   },
   {
    "duration": 0,
    "start_time": "2024-06-28T08:03:47.176Z"
   },
   {
    "duration": 0,
    "start_time": "2024-06-28T08:03:47.177Z"
   },
   {
    "duration": 0,
    "start_time": "2024-06-28T08:03:47.178Z"
   },
   {
    "duration": 0,
    "start_time": "2024-06-28T08:03:47.179Z"
   },
   {
    "duration": 0,
    "start_time": "2024-06-28T08:03:47.180Z"
   },
   {
    "duration": 0,
    "start_time": "2024-06-28T08:03:47.181Z"
   },
   {
    "duration": 0,
    "start_time": "2024-06-28T08:03:47.182Z"
   },
   {
    "duration": 0,
    "start_time": "2024-06-28T08:03:47.183Z"
   },
   {
    "duration": 0,
    "start_time": "2024-06-28T08:03:47.184Z"
   },
   {
    "duration": 0,
    "start_time": "2024-06-28T08:03:47.185Z"
   },
   {
    "duration": 111,
    "start_time": "2024-06-28T08:08:37.268Z"
   },
   {
    "duration": 111,
    "start_time": "2024-06-28T08:08:55.814Z"
   },
   {
    "duration": 5,
    "start_time": "2024-06-28T08:09:18.497Z"
   },
   {
    "duration": 4,
    "start_time": "2024-06-28T08:09:24.749Z"
   },
   {
    "duration": 4,
    "start_time": "2024-06-28T08:09:40.148Z"
   },
   {
    "duration": 21,
    "start_time": "2024-06-28T08:10:22.686Z"
   }
  ],
  "kernelspec": {
   "display_name": "Python 3 (ipykernel)",
   "language": "python",
   "name": "python3"
  },
  "language_info": {
   "codemirror_mode": {
    "name": "ipython",
    "version": 3
   },
   "file_extension": ".py",
   "mimetype": "text/x-python",
   "name": "python",
   "nbconvert_exporter": "python",
   "pygments_lexer": "ipython3",
   "version": "3.9.18"
  },
  "toc": {
   "base_numbering": 1,
   "nav_menu": {
    "height": "319.99px",
    "width": "283.229px"
   },
   "number_sections": true,
   "sideBar": true,
   "skip_h1_title": true,
   "title_cell": "Contents",
   "title_sidebar": "Contents",
   "toc_cell": true,
   "toc_position": {
    "height": "calc(100% - 180px)",
    "left": "10px",
    "top": "150px",
    "width": "302.391px"
   },
   "toc_section_display": true,
   "toc_window_display": true
  },
  "varInspector": {
   "cols": {
    "lenName": 16,
    "lenType": 16,
    "lenVar": 40
   },
   "kernels_config": {
    "python": {
     "delete_cmd_postfix": "",
     "delete_cmd_prefix": "del ",
     "library": "var_list.py",
     "varRefreshCmd": "print(var_dic_list())"
    },
    "r": {
     "delete_cmd_postfix": ") ",
     "delete_cmd_prefix": "rm(",
     "library": "var_list.r",
     "varRefreshCmd": "cat(var_dic_list()) "
    }
   },
   "types_to_exclude": [
    "module",
    "function",
    "builtin_function_or_method",
    "instance",
    "_Feature"
   ],
   "window_display": false
  }
 },
 "nbformat": 4,
 "nbformat_minor": 2
}
